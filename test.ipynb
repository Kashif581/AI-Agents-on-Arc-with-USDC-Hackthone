{
 "cells": [
  {
   "cell_type": "code",
   "execution_count": null,
   "id": "b555812c",
   "metadata": {},
   "outputs": [],
   "source": [
    "!pip uninstall crypto pycrypto\n",
    "!pip install pycryptodome\n"
   ]
  },
  {
   "cell_type": "code",
   "execution_count": 7,
   "id": "6f022b23",
   "metadata": {},
   "outputs": [],
   "source": [
    "import requests\n",
    "import os\n",
    "import codecs\n",
    "import base64"
   ]
  },
  {
   "cell_type": "code",
   "execution_count": 8,
   "id": "5bd55a5e",
   "metadata": {},
   "outputs": [
    {
     "ename": "ModuleNotFoundError",
     "evalue": "No module named 'Crypto'",
     "output_type": "error",
     "traceback": [
      "\u001b[1;31m---------------------------------------------------------------------------\u001b[0m",
      "\u001b[1;31mModuleNotFoundError\u001b[0m                       Traceback (most recent call last)",
      "Cell \u001b[1;32mIn[8], line 1\u001b[0m\n\u001b[1;32m----> 1\u001b[0m \u001b[38;5;28;01mfrom\u001b[39;00m\u001b[38;5;250m \u001b[39m\u001b[38;5;21;01mCrypto\u001b[39;00m\u001b[38;5;21;01m.\u001b[39;00m\u001b[38;5;21;01mPublicKey\u001b[39;00m\u001b[38;5;250m \u001b[39m\u001b[38;5;28;01mimport\u001b[39;00m RSA\n\u001b[0;32m      2\u001b[0m \u001b[38;5;28;01mfrom\u001b[39;00m\u001b[38;5;250m \u001b[39m\u001b[38;5;21;01mCrypto\u001b[39;00m\u001b[38;5;21;01m.\u001b[39;00m\u001b[38;5;21;01mCipher\u001b[39;00m\u001b[38;5;250m \u001b[39m\u001b[38;5;28;01mimport\u001b[39;00m PKCS1_OAEP\n\u001b[0;32m      3\u001b[0m \u001b[38;5;28;01mfrom\u001b[39;00m\u001b[38;5;250m \u001b[39m\u001b[38;5;21;01mCrypto\u001b[39;00m\u001b[38;5;21;01m.\u001b[39;00m\u001b[38;5;21;01mHash\u001b[39;00m\u001b[38;5;250m \u001b[39m\u001b[38;5;28;01mimport\u001b[39;00m SHA256\n",
      "\u001b[1;31mModuleNotFoundError\u001b[0m: No module named 'Crypto'"
     ]
    }
   ],
   "source": [
    "from Crypto.PublicKey import RSA\n",
    "from Crypto.Cipher import PKCS1_OAEP\n",
    "from Crypto.Hash import SHA256\n"
   ]
  },
  {
   "cell_type": "code",
   "execution_count": 2,
   "id": "5392bb84",
   "metadata": {},
   "outputs": [
    {
     "name": "stdout",
     "output_type": "stream",
     "text": [
      "Hex encoded entity secret: eae3bc7b53f28fe71d9585386962c4ac376f70ffbf1c398ec4a738a2c2a13e01\n"
     ]
    }
   ],
   "source": [
    "# The following sample codes generate a distinct hex encoded entity secret with each execution.\n",
    "# The generation of entity secret only need to be executed once unless you need to rotate entity secret.\n",
    "\n",
    "entity_secret = os.urandom(32)\n",
    "print(\"Hex encoded entity secret:\", codecs.encode(entity_secret, 'hex').decode())"
   ]
  },
  {
   "cell_type": "code",
   "execution_count": null,
   "id": "e071c07b",
   "metadata": {},
   "outputs": [],
   "source": [
    "# Paste your entity public key here.\n",
    "public_key_string = \"-----BEGIN PUBLIC KEY-----\\nMIICIjANBgkqhkiG9w0BAQEFAAOCAg8AMIICCgKCAgEAtZ1iVD1oGjNXjy3NzBEb\\nAXgHDWxYn6G35kYref9FXGoUckzKt0ntebcJo5UDnQpwmppb6yPkPBZg0KvDRgVT\\nWFS+GMNFtRll6EzcWqmuac1qS9KQ6n0BhlfY0QM/LZpfJtcUV92uvBnrX/m/wVyv\\n26y3333DuhLw226EvqQawkqjC1Fs9kPDxjy+3sSTAQYmHAf6bF5kTuLMl85sibFg\\nwm+PXz2+5+0QY8G3s1fbIv8RAOU8tOA7s3+2PYCp8EtOGllZ4+6qOnx4eVfVzpB0\\nEQJ4I3VX827SDXCwHff4Uxo3mJs9yU54aZU3sue8jTMXJ9PFZ4OtbBz/MF1eUol/\\nYsklGozoGVWQ5eEjsUu4UR/5edixx6Nkw44jq35eaHYWHU9nLNRsss55gNDFo/mm\\nYyFh+l29walE6Rriad2gJNE9ZHqb8kx8K2TxoBm6O4q5t8WbqyCnRPaKDGwq9Xi2\\neGh991AM4JBiS34Ji/aj2JyufTBeduCeokvQSzN9up+gn2sAdbDomjrty74ipn0c\\nc7cC/9/IKn8Zie5ufwB1ZQJNbwFewnJJi/OSK99EF64FfaJr1xJaL5m2s3u5e04X\\nlgGL2u3PGfVSwIxImnszMDnz0B0toNWqSMjjNpy4HDcfRh2M12BxJa1JjTn8f4yb\\nwU1G1G7gcFKx5XSq79Q4chUCAwEAAQ==\\n-----END PUBLIC KEY-----\\n\"\n",
    "\n",
    "# If you already have a hex encoded entity secret, you can paste it here. the length of the hex string should be 64.\n",
    "hex_encoded_entity_secret = 'eae3bc7b53f28fe71d9585386962c4ac376f70ffbf1c398ec4a738a2c2a13e01'\n"
   ]
  },
  {
   "cell_type": "code",
   "execution_count": null,
   "id": "09beb217",
   "metadata": {},
   "outputs": [],
   "source": [
    "entity_secret = bytes.fromhex(hex_encoded_entity_secret)\n",
    "\n",
    "if len(entity_secret) != 32:\n",
    "    print(\"invalid entity secret\")\n",
    "    exit(1)\n",
    "public_key = RSA.importKey(public_key_string)\n",
    "\n",
    "# encrypt data by the public key\n",
    "cipher_rsa = PKCS1_OAEP.new(key=public_key, hashAlgo=SHA256)\n",
    "encrypted_data = cipher_rsa.encrypt(entity_secret)\n",
    "\n",
    "# encode to base64\n",
    "encrypted_data_base64 = base64.b64encode(encrypted_data)\n",
    "print(\"Hex encoded entity secret:\", codecs.encode(entity_secret, 'hex').decode())\n",
    "print(\"Entity secret ciphertext:\", encrypted_data_base64.decode())"
   ]
  },
  {
   "cell_type": "code",
   "execution_count": null,
   "id": "45344d5f",
   "metadata": {},
   "outputs": [],
   "source": [
    "\n",
    "# Create WalletSet\n",
    "\n",
    "url = \"https://api.circle.com/v1/w3s/developer/walletSets\"\n",
    "\n",
    "payload = {\n",
    "    # confidential password required to access features of a developer-controlled wallet\n",
    "    \"entitySecretCiphertext\": \"\",\n",
    "    \"idempotencyKey\": \"91efd756-356b-4f94-aa96-5aaf141d485d\"\n",
    "}\n",
    "headers = {\"Content-Type\": \"application/json\"}\n",
    "\n",
    "response = requests.post(url, json=payload, headers=headers)\n",
    "\n",
    "print(response.text)"
   ]
  },
  {
   "cell_type": "code",
   "execution_count": null,
   "id": "44e189b1",
   "metadata": {},
   "outputs": [],
   "source": [
    "# Create wallet\n",
    "\n",
    "url = \"https://api.circle.com/v1/w3s/developer/wallets\"\n",
    "\n",
    "\n",
    "payload = {\n",
    "    \"idempotencyKey\": \"858e13a9-ba28-426e-8de6-0a0cbc395c4b\",\n",
    "    \"blochchains\": [\"ARC-TESTNET\"],\n",
    "    \"entitySecretCiphertext\": \"\",\n",
    "    \"walletSetId\": \"\"\n",
    "}\n",
    "headers = {\"Content-Type\": \"application/json\"}\n",
    "response = requests.post(url, json=payload, headers=headers)\n",
    "\n",
    "print(response.text)\n"
   ]
  }
 ],
 "metadata": {
  "kernelspec": {
   "display_name": "base",
   "language": "python",
   "name": "python3"
  },
  "language_info": {
   "codemirror_mode": {
    "name": "ipython",
    "version": 3
   },
   "file_extension": ".py",
   "mimetype": "text/x-python",
   "name": "python",
   "nbconvert_exporter": "python",
   "pygments_lexer": "ipython3",
   "version": "3.13.5"
  }
 },
 "nbformat": 4,
 "nbformat_minor": 5
}
